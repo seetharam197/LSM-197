{
 "cells": [
  {
   "cell_type": "code",
   "execution_count": 1,
   "id": "ee348e9a-e9f5-46c1-9b1b-a5130751613b",
   "metadata": {},
   "outputs": [
    {
     "name": "stdout",
     "output_type": "stream",
     "text": [
      "Collecting PyPDF2\n",
      "  Downloading pypdf2-3.0.1-py3-none-any.whl.metadata (6.8 kB)\n",
      "Downloading pypdf2-3.0.1-py3-none-any.whl (232 kB)\n",
      "Installing collected packages: PyPDF2\n",
      "Successfully installed PyPDF2-3.0.1\n"
     ]
    }
   ],
   "source": [
    "!pip install PyPDF2"
   ]
  },
  {
   "cell_type": "code",
   "execution_count": 3,
   "id": "1bdeeb34-2e1d-4491-80ab-90cef2dc07c2",
   "metadata": {},
   "outputs": [
    {
     "name": "stdout",
     "output_type": "stream",
     "text": [
      "pages: 35\n",
      " \n",
      " \n",
      " Development  Plan for Greater Mumbai 2014‐2034                                                                                                                                                                                                                                                      \n",
      "Acknowledgements  \n",
      "The Consultant  wishes to thank the following  individuals  from the Municipal  Corporation  of \n",
      "Greater Mumbai for their invaluable  support, insights and contributions  towards ‘Working  Paper 1 \n",
      "– Preparation  of Base Map’ for the preparation  of the Development  Plan for Greater Mumbai \n",
      "2014‐34. \n",
      " Mr. Subodh Kumar, IAS, Municipal  Commissioner;  \n",
      " Mr. Rajeev Kuknoor, Chief Engineer Development  Plan; \n",
      " Mr. Sudhir Ghate, Deputy Chief Engineer Development  Plan; \n",
      " Mr. A.G. Marathe, Deputy Chief Engineer Development  Plan; \n",
      " Mr. R. Balachandran,  Executive  Engineer and Town Planning Officer, Development  Plan. \n",
      " Our gratitude  to the following  experts for their invaluable  insights and support: \n",
      " \n",
      "Mr. V.K Phatak, Former Chief Town Planner (MMRDA);  \n",
      " Mr. A.N Kale, Former Chief Engineer, (DP); \n",
      " Mr. A. S Jain Former Dy. Chief Engineer, (DP). \n",
      " We wish to especially  thank MCGM officers, Mr. Jagdish Talreja, Mr. Dinesh Naik, Mr. Hiren \n",
      "Daftardar,  Ms. Anita Naik for their continual  support since the\n",
      " beginning  of the project and their \n",
      "help towards familiarization  and data collection.  They have been instrumental  in helping to \n",
      "contact various MCGM departments  as well as in helping to establish contact with personnel  from \n",
      "other government  departments  and organizations.  Many thanks for the MCGM team, for \n",
      "deploying  personnel,  particularly  Mr. Prasad Gharat, on extensive  field visits that have helped in \n",
      "understanding  actual ground conditions.  \n",
      " \n",
      "We apologize  if we have inadvertently  omitted anyone to whom acknowledgement  is due. We hope \n",
      "and anticipate  the work's usefulness  for the intended purpose. \n",
      " \n"
     ]
    }
   ],
   "source": [
    "import PyPDF2\n",
    "from PyPDF2 import PdfFileReader\n",
    "pdf=open(r\"C:\\Users\\Harshita uppalpati\\Downloads\\file1pdf.pdf\",\"rb\")\n",
    "pdf_reader=PyPDF2.PdfReader(pdf)\n",
    "print(\"pages:\",len(pdf_reader.pages))\n",
    "page=pdf_reader.pages[1]\n",
    "print(page.extract_text())\n",
    "pdf.close()"
   ]
  },
  {
   "cell_type": "code",
   "execution_count": 10,
   "id": "7969c68d-dd54-4e10-9df6-b6af5bcfe93a",
   "metadata": {},
   "outputs": [],
   "source": [
    "import PyPDF2,urllib,nltk\n",
    "from io import BytesIO\n",
    "from nltk.tokenize import word_tokenize\n",
    "from nltk.corpus import stopwords"
   ]
  },
  {
   "cell_type": "code",
   "execution_count": 11,
   "id": "2c7eca16-78b5-4658-ada6-78f73a7be1e6",
   "metadata": {},
   "outputs": [],
   "source": [
    "wFile=urllib.request.urlopen('https://udri.org/pdf/02%20working%20paper%201.pdf')\n",
    "pdfreader=PyPDF2.PdfReader(BytesIO(wFile.read()))"
   ]
  },
  {
   "cell_type": "code",
   "execution_count": 12,
   "id": "a4768e80-c08b-4834-9308-c70577e6717f",
   "metadata": {},
   "outputs": [],
   "source": [
    "pageObj=pdfreader.pages[2]\n",
    "page2=pageObj.extract_text()\n",
    "punctuations=['(',')',';',':','[',']',',','...','.']\n",
    "tokens=word_tokenize(page2)\n",
    "stop_words=stopwords.words('english')\n",
    "keywords=[word for word in tokens if not word in stop_words and not word in punctuations]"
   ]
  },
  {
   "cell_type": "code",
   "execution_count": 13,
   "id": "e44f2039-c1bc-4dc2-bce8-c9a3b1434a5a",
   "metadata": {},
   "outputs": [
    {
     "data": {
      "text/plain": [
       "['Development',\n",
       " 'Plan',\n",
       " 'Greater',\n",
       " 'Mumbai',\n",
       " '2014‐2034',\n",
       " 'Table',\n",
       " 'Contents',\n",
       " 'The',\n",
       " 'Consultant',\n",
       " 'wishes',\n",
       " 'thank',\n",
       " 'following',\n",
       " 'individuals',\n",
       " 'Municipal',\n",
       " 'Corporation',\n",
       " 'Greater',\n",
       " 'Mumbai',\n",
       " 'invaluable',\n",
       " 'support',\n",
       " 'insights',\n",
       " 'contributions',\n",
       " 'towards',\n",
       " '‘',\n",
       " 'Working',\n",
       " 'Paper',\n",
       " '1',\n",
       " '–',\n",
       " 'Preparation',\n",
       " 'Base',\n",
       " 'Map',\n",
       " '’',\n",
       " 'preparation',\n",
       " 'Development',\n",
       " 'Plan',\n",
       " 'Greater',\n",
       " 'Mumbai',\n",
       " '2014‐34',\n",
       " '.............................................................................................................................',\n",
       " '..............',\n",
       " '3',\n",
       " 'Our',\n",
       " 'gratitude',\n",
       " 'following',\n",
       " 'experts',\n",
       " 'invaluable',\n",
       " 'insights',\n",
       " 'support',\n",
       " '............................',\n",
       " '3',\n",
       " 'We',\n",
       " 'wish',\n",
       " 'especially',\n",
       " 'thank',\n",
       " 'MCGM',\n",
       " 'officers',\n",
       " 'Mr.',\n",
       " 'Jagdish',\n",
       " 'Talreja',\n",
       " 'Mr.',\n",
       " 'Dinesh',\n",
       " 'Naik',\n",
       " 'Mr.',\n",
       " 'Hiren',\n",
       " 'Daftardar',\n",
       " 'Ms.',\n",
       " 'Anita',\n",
       " 'Naik',\n",
       " 'continual',\n",
       " 'support',\n",
       " 'since',\n",
       " 'beginning',\n",
       " 'project',\n",
       " 'help',\n",
       " 'towards',\n",
       " 'familiarization',\n",
       " 'data',\n",
       " 'collection',\n",
       " 'They',\n",
       " 'instrumental',\n",
       " 'helping',\n",
       " 'contact',\n",
       " 'various',\n",
       " 'MCGM',\n",
       " 'departments',\n",
       " 'well',\n",
       " 'helping',\n",
       " 'establish',\n",
       " 'contact',\n",
       " 'personnel',\n",
       " 'government',\n",
       " 'departments',\n",
       " 'organizations',\n",
       " 'Many',\n",
       " 'thanks',\n",
       " 'MCGM',\n",
       " 'team',\n",
       " 'deploying',\n",
       " 'personnel',\n",
       " 'particularly',\n",
       " 'Mr.',\n",
       " 'Prasad',\n",
       " 'Gharat',\n",
       " 'extensive',\n",
       " 'field',\n",
       " 'visits',\n",
       " 'helped',\n",
       " 'understanding',\n",
       " 'actual',\n",
       " 'ground',\n",
       " 'conditions',\n",
       " '........................................................................................',\n",
       " '3',\n",
       " 'BEST',\n",
       " '...............................................................................................................................',\n",
       " '.................',\n",
       " '5',\n",
       " 'Brihanmumbai',\n",
       " 'Electric',\n",
       " 'Supply',\n",
       " 'Transport',\n",
       " 'Undertaking',\n",
       " '..............................................................',\n",
       " '5',\n",
       " 'CIDCO',\n",
       " '...............................................................................................................................',\n",
       " '..............',\n",
       " '5',\n",
       " 'City',\n",
       " 'Industrial',\n",
       " 'Development',\n",
       " 'Corporation',\n",
       " '...............................................................................',\n",
       " '5',\n",
       " 'CTP',\n",
       " '...............................................................................................................................',\n",
       " '..................',\n",
       " '5',\n",
       " 'Comprehensive',\n",
       " 'Transportation',\n",
       " 'Plan',\n",
       " '...............................................................................................',\n",
       " '5',\n",
       " 'DP',\n",
       " '...............................................................................................................................',\n",
       " '....................',\n",
       " '5',\n",
       " 'Development',\n",
       " 'Plan',\n",
       " '..........................................................................................................................',\n",
       " '5',\n",
       " 'DPGM34',\n",
       " '...............................................................................................................................',\n",
       " '..........',\n",
       " '5',\n",
       " 'Development',\n",
       " 'Plan',\n",
       " 'Greater',\n",
       " 'Mumbai',\n",
       " '2034',\n",
       " '.......................................................................................',\n",
       " '5',\n",
       " 'DCR',\n",
       " '...............................................................................................................................',\n",
       " '..................',\n",
       " '5',\n",
       " 'Development',\n",
       " 'Control',\n",
       " 'Regulations',\n",
       " '...................................................................................................',\n",
       " '5',\n",
       " 'DGPS',\n",
       " '...........................................................................................................................',\n",
       " '....................',\n",
       " '5',\n",
       " 'Digital',\n",
       " 'Global',\n",
       " 'Positioning',\n",
       " 'System',\n",
       " '...................................................................................................',\n",
       " '5',\n",
       " 'DPGM',\n",
       " '...............................................................................................................................',\n",
       " '..............',\n",
       " '5',\n",
       " 'Development',\n",
       " 'Plan',\n",
       " 'Greater',\n",
       " 'Mumbai',\n",
       " '...........................................................................................',\n",
       " '5',\n",
       " 'ELU',\n",
       " '...............................................................................................................................',\n",
       " '..................',\n",
       " '5',\n",
       " 'Existing',\n",
       " 'Land',\n",
       " 'use',\n",
       " '.............................................................................................................................',\n",
       " '5',\n",
       " 'FSI',\n",
       " '...............................................................................................................................',\n",
       " '....................',\n",
       " '5',\n",
       " 'Floor',\n",
       " 'Space',\n",
       " 'Index',\n",
       " '............................................................................................................................',\n",
       " '5',\n",
       " 'GIS',\n",
       " '...............................................................................................................................',\n",
       " '...................',\n",
       " '5']"
      ]
     },
     "execution_count": 13,
     "metadata": {},
     "output_type": "execute_result"
    }
   ],
   "source": [
    "keywords"
   ]
  },
  {
   "cell_type": "code",
   "execution_count": 16,
   "id": "6c988f12-c410-4e05-8936-792c6d3df135",
   "metadata": {},
   "outputs": [
    {
     "name": "stdout",
     "output_type": "stream",
     "text": [
      "['Mr.JagdishTalreja', 'Mr.DineshNaik', 'Mr.HirenDaftardar', 'Ms.AnitaNaik', 'Mr.PrasadGharat']\n"
     ]
    }
   ],
   "source": [
    "name_list=list()\n",
    "check=['Mr.','Mrs.','Ms.']\n",
    "for idx,token in enumerate(tokens):\n",
    "    if token.startswith(tuple(check)) and idx<(len(tokens)-1):\n",
    "        name=token+tokens[idx+1]+''+tokens[idx+2]\n",
    "        name_list.append(name)\n",
    "print(name_list)"
   ]
  },
  {
   "cell_type": "code",
   "execution_count": 17,
   "id": "d3fc15be-eff9-4730-81a1-63cf467d5b9f",
   "metadata": {},
   "outputs": [],
   "source": [
    "wFile.close()"
   ]
  },
  {
   "cell_type": "code",
   "execution_count": 1,
   "id": "6200de15-c940-45be-a54e-6ff6143d8578",
   "metadata": {},
   "outputs": [
    {
     "name": "stdout",
     "output_type": "stream",
     "text": [
      "Collecting python_docx\n",
      "  Downloading python_docx-1.1.2-py3-none-any.whl.metadata (2.0 kB)\n",
      "Requirement already satisfied: lxml>=3.1.0 in c:\\users\\harshita uppalpati\\anaconda3\\lib\\site-packages (from python_docx) (5.2.1)\n",
      "Requirement already satisfied: typing-extensions>=4.9.0 in c:\\users\\harshita uppalpati\\anaconda3\\lib\\site-packages (from python_docx) (4.11.0)\n",
      "Downloading python_docx-1.1.2-py3-none-any.whl (244 kB)\n",
      "Installing collected packages: python_docx\n",
      "Successfully installed python_docx-1.1.2\n"
     ]
    }
   ],
   "source": [
    "!pip install python_docx"
   ]
  },
  {
   "cell_type": "code",
   "execution_count": 2,
   "id": "e4bdc092-08c5-4dd9-af68-007bde555eda",
   "metadata": {},
   "outputs": [],
   "source": [
    "import docx"
   ]
  },
  {
   "cell_type": "code",
   "execution_count": 6,
   "id": "11510ffd-662f-4e1d-9d88-d4d546c1061a",
   "metadata": {},
   "outputs": [],
   "source": [
    "doc=open(r\"C:\\Users\\Harshita uppalpati\\OneDrive\\Desktop\\B-TECH\\3rd yr\\3-1\\LINUX PROGRAMMING\\R-22 LP Lab Manual Student Copy.docx\",\"rb\")\n",
    "document=docx.Document(doc)"
   ]
  },
  {
   "cell_type": "code",
   "execution_count": 7,
   "id": "361062ec-d57b-4cfc-b9ca-38a2b0e21027",
   "metadata": {},
   "outputs": [
    {
     "name": "stdout",
     "output_type": "stream",
     "text": [
      "Linux ProgrammingMR22-1CS0241B Tech III Year I Semester                                                         (CSE-AI&ML)(2024-25)School of EngineeringGENERAL LABORATORY INSTRUCTIONSStudents are advised to come to the laboratory at least 5 minutes before (to the starting time), those who come after 5 minutes will not be allowed into the lab.Plan your task properly much before to the commencement, come prepared to the lab with the synopsis / program / experiment details.Student should enter into the laboratory with:Laboratory observation notes with all the details (Problem statement, Aim, Algorithm, Procedure, Program, Expected Output, etc.,) filled in for the lab session.Laboratory Record updated up to the last session experiments and other utensils (if any) needed in the lab.Proper Dress code and Identity card.Sign in the laboratory login register, write the TIME-IN, and occupy the computer system allotted to you by the faculty.Execute your task in the laboratory, and record the results / output in the lab observation note book, and get certified by the concerned faculty.All the students should be polite and cooperative with the laboratory staff, must maintain the discipline and decency in the laboratory.Computer labs are established with sophisticated and high end branded systems, which should be utilized properly.Students / Faculty must keep their mobile phones in SWITCHED OFF mode during the lab sessions. Misuse of the equipment, misbehaviors with the staff and systems etc., will attract severe punishment.Students must take the permission of the faculty in case of any urgency to go out; if anybody found loitering outside the lab / class without permission during working hours will be treated seriously and punished appropriately.Students should LOG OFF/ SHUT DOWN the computer system before he/she leaves the lab after completing the task (experiment) in all aspects. He/she must ensure the system / seat is kept properly.Course Objectives:To develop the skills necessary for Linux systems programming.To make effective use of Shell scripting languages such as bash.To learn about file system programming, process and signal management.To understand inter process communication.To get knowledge about shared memory, sockets.Course Outcomes:At the end of this course, the students will be able toAbility to use various Linux commands that are used to manipulate system operations at admin level and a prerequisite to pursue a job as a Network administrator.Ability to write Shell Programming using Linux commands.Ability to design and write applications to manipulate internal kernel level Linux File System.Students will be able to create processes background and foreground etc..by fork() system calls.Create shared memory segments, pipes ,message queues ,semaphores and can exercise inter process communication.Linux ProgrammingList of ContentsExperiment – 1Aim:- To Install Ubuntu Linux and LINUX Commands(File Handling utilities, Text processing utilities, Network utilities, Disk utilities, Backup utilities and Filters.Step 1: Insert the ubuntu cd/external drive and boot the computer. First of all you will be prompted to select language. Select English or other language according to your preferences.Step 2: Now you will see ubuntu menu, you can choose Try ubuntu without installing option to try ubuntu without actually installing it on your hard drive. For installing ubuntu choose the second option Install Ubuntu.Step 3: Ubuntu will start now initialize and after few minutes you can see the installation wizard.Step 4: Click Forward and it will check the minimum requirements for running ubuntu on your PC. If everything is fine you can see green colored tick marks. You can also select to download updates while installing and install some third party software. After selecting the things you want click forward.Step 5 : Now you can choose either erase and use entire disk option or specify partitions Select free space and click on Add option to create a new partition and choose partition type as primary, size around 70% of the free space available or choose anything like 10,000 or 20,000mb, use as ext3 journaling file system and select mount point as /Now again select free space from the table and click add option. Now select size to be around 300mb, use as ext3 journaling file system and select mount point as /boot. Now again select free space from the table and click add option. Now select size to be around twice the size of your ram that is around 1000 mb if your ram size is 512mb and select use as swap area and click ok.  Step 6: Click Install now button and then the wizard will ask you location. Select your location and click forward.                    Step 7: While you are selecting these options wizard will continue to copy files. Now select your desired keyboard layout and click forward.Step 8: Now fill in the details about yourself. Fill your name, computer name, choose a username and create a password        and click forward and let ubuntu copy all the essential files.      Step 9: After all files have been copied and installed ubuntu will display a message saying that installation complete and click on restart button to restart your computer.             Step 10: After restarting your pc wait for the ubuntu to load and then it will display the login screen. Choose the user and enter password and click login.           LINUX Commands:1.File Handling utilities:i) ls: List directory contents. It shows information about files and directories within the specified directory.Example:ls -l     # Detailed listingls -a     # Show hidden filesls -lh    # Human-readable sizesii) cp: Copy files and directories.Example:\t cp file1.txt file2.txt    # Copy file1.txt to file2.txtcp -r directory1 directory2  # Copy directory1 and its contents recursively to directory2iii) mv: Move or rename files and directories.Example:mv file1.txt newfile.txt   # Rename file1.txt to newfile.txtmv file1.txt directory/    # Move file1.txt to directory/iv) rm: Remove files or directories.Example:rm file.txt          # Remove file.txtrm -r directory/     # Remove directory and its contents recursivelyv) mkdir: Create directories.Example:mkdir new_directory    # Create a directory named new_directorymkdir -p path/to/directory   # Create nested directoriesvi) rmdir: Remove empty directories.Example:rmdir empty_directory    # Remove empty_directoryvii) touch: Create an empty file or update file timestamps.Example:touch file.txt    # Create an empty file.txt if it doesn't exist; update its timestamp if it doesviii) cat: Concatenate and display the content of files.Example:cat file.txt    # Display the content of file.txtix) find: Search for files and directories.Example:find . -name \"*.txt\"    # Find all files ending in .txt in the current directory and its subdirectories2.Text Processing Utilities:grep: Search for patterns in text files or output.Example:grep \"pattern\" file.txt    # Search for \"pattern\" in file.txtgrep -r \"pattern\" .        # Recursively search for \"pattern\" in current directory and subdirectoriescut: Extract specific columns or fields from text files.Example:cut -d',' -f1,3 file.csv       # Extract the first and third fields from a CSV file using comma as delimitertr: Translate or delete characters.Example:tr 'a-z' 'A-Z' < file.txt      # Convert lowercase letters to uppercase in file.txtsort: Sort lines of text files.Example:sort file.txt                  # Sort lines alphabetically in file.txtsort -n file.txt               # Sort numericallypaste: Merge lines of files.Example:paste file1.txt file2.txt      # Merge lines of file1.txt and file2.txt, separated by tabwc: Print newline, word, and byte counts for each file.Example:wc file.txt                    # Count lines, words, and bytes in file.txt3.Network Utilities:i)  ifconfig: Display or configure network interface parameters.Example: ifconfig eth0ii) ip:More modern replacement for ifconfig with more features.Example: ip addr showiii)  ping:Test connectivity between the local machine and a remote host.Example: ping google.comiv)  traceroute:Trace the route packets take to reach a network host.Example: traceroute google.comv)  dig:DNS lookup utility.Example: dig google.comvi)hostname:Show or set the system's hostname.Example: hostname (to show the hostname) or hostname newhostname (to set a new hostname)vii)  curl:Transfer data from or to a server using various protocols.Example: curl http://example.comDisk Utilities:i) fdisk:Used for partitioning disks.Command: sudo fdisk /dev/sdXii) parted:Another partitioning tool, useful for larger disks and GPT partitions.Command: sudo parted /dev/sdXiii)  lsblk:Lists information about all available or the specified block devices.Command: lsblkiv) blkid: Locates/prints block device attributes.Command: sudo blkidv)  df: Reports file system disk space usage.Command: df -hvi) mkfs:Builds a Linux file system on a device.Command: sudo mkfs.ext4 /dev/sdXnvii) fsck:File system consistency check and repair.Command: sudo fsck /dev/sdXnBackup Utilities and Filters:i)rsync: Efficiently syncs files and directories between two locations. This command syncs the contents of /source/directory to /backup/directory.Example: rsync -avh /source/directory /backup/directoryii) tar: Archives files into a tarball.Example:bashCopy codetar -czvf backup.tar.gz /source/directoryThis command creates a compressed tarball of /source/directory named backup.tar.gz.iii) dd : Low-level copying of raw data from one location to another.Example: sudo dd if=/dev/sda of=/backup/disk.img bs=4MFilters:grep: Searches text using patterns.Example:bashCopy codegrep \"search_pattern\" /path/to/fileThis command searches for \"search_pattern\" in the specified file.Sed: Stream editor for filtering and transforming text.Example:bashCopy codesed 's/old_text/new_text/g' /path/to/fileThis command replaces all occurrences of \"old_text\" with \"new_text\" in the specified file.Awk: Pattern scanning and processing language.Example:bashCopy codeawk '{print $1}' /path/to/fileThis command prints the first column of each line in the specified file.Cut : Removes sections from each line of files.Example:bashCopy codecut -d',' -f1 /path/to/fileThis command cuts the first field from a comma-separated file.Sort: Sorts lines of text files.Example:bashCopy codesort /path/to/fileThis command sorts the lines in the specified file.Uniq: Reports or omits repeated lines.Example:bashCopy codesort /path/to/file | uniqThis command sorts the file and removes duplicate lines.Tr : Translates or deletes characters.Example:bashCopy codetr 'a-z' 'A-Z' < /path/to/fileThis command converts all lowercase letters to uppercase in the specified file.Head: Outputs the first part of files.Example:bashCopy codehead -n 10 /path/to/fileThis command shows the first 10 lines of the specified file.Tail: Outputs the last part of files.Example:bashCopy codetail -n 10 /path/to/fileThis command shows the last 10 lines of the specified file.Find: Searches for files in a directory hierarchy.Example:bashCopy codefind /path/to/search -name \"filename\"This command searches for files named \"filename\" starting from /path/to/search.Output:-EXPERIMENT NO: 2  Aim:- Write a Shell Script that accepts a file name, starting and ending line numbers                           as arguments and displays all lines between the given line numbers.Program:- Script Name: display_lines.sh\t#!/bin/bash# Function to display usageusage() {  echo \"Usage: $0 <file_name> <start_line> <end_line>\"  exit 1}# Check if the correct number of arguments is providedif [ \"$#\" -ne 3 ]; then  usagefifile_name=$1start_line=$2end_line=$3# Check if the file existsif [ ! -f \"$file_name\" ]; then  echo \"File not found!\"  exit 1fi# Check if the start and end line numbers are integersif ! [[ \"$start_line\" =~ ^[0-9]+$ ]] || ! [[ \"$end_line\" =~ ^[0-9]+$ ]]; then  echo \"Start and end lines must be integers.\"  exit 1fi# Check if the start line is less than or equal to the end lineif [ \"$start_line\" -gt \"$end_line\" ]; then  echo \"Start line number must be less than or equal to end line number.\"  exit 1fi# Display lines between the given line numberssed -n \"${start_line},${end_line}p\" \"$file_name\"Output:-Exercise Program:Write a shell script that checks if a file exists and displays its properties (such as type, size, permissions, owner, and last modified time).Program:-EXPERIMENT NO: 3Aim:- Write a shell script that deletes all lines containing the specified word in one or more files supplied as arguments to it.Program:-                                                                    Script name: delete_lines.sh#!/bin/bash# Function to display usageusage() {  echo \"Usage: $0 <word> <file1> [<file2> ... <fileN>]\"  exit 1}# Check if at least two arguments are providedif [ \"$#\" -lt 2 ]; then  usagefiword=$1shift# Process each filefor file in \"$@\"; do  # Check if the file exists  if [ ! -f \"$file\" ]; then    echo \"File not found: $file\"    continue  fi  # Delete lines containing the specified word  sed -i \"/$word/d\" \"$file\"doneecho \"Lines containing '$word' have been deleted from the specified files.\"Output:-Exercise Program:Create a script that replaces occurrences of a specified word with another word in one or more files.Program:-EXPERIMENT NO: 4Aim:- Write a shell script that displays a list of all files in the current directory to which the user has read, write and execute permissions.Program:-Script name: list_files.sh#!/bin/bash# List all files in the current directoryfor file in *; do# Check if the file is a regular file and if the user has read, write, and execute permissions  if [ -f \"$file\" ] && [ -r \"$file\" ] && [ -w \"$file\" ] && [ -x \"$file\" ]; then    # Print the file name    echo \"$file\"  fidoneOutput:-Exercise Program:Develop a script that interactively checks and displays permissions for files based on user input.Program:-EXPERIMENT NO: 5Aim:-Write a shell script to find factorial of a given number.Program:-Script Name: factorial.sh#!/bin/bash# Read number from userread -p \"Enter a number: \" number# Check if the input is a non-negative integerif ! [[ \"$number\" =~ ^[0-9]+$ ]]; thenecho \"Please enter a non-negative integer.\"exit 1fifactorial=1# Calculate factorial iterativelyfor (( i=1; i<=number; i++ ))dofactorial=$((factorial * i))doneecho \"Factorial of $number is $factorial\"\tOutput:-Exercise Program:Write a shell script to check for prime numbers within a range (e.g., from 1 to a user-input number).Program:-Experiment – 6Aim:-Write a shell script to list all of the directory files in a directory.Program:#!/bin/bashecho \"Enter directory name: \"read dirif [ -d \"$dir\" ]; then    echo \"Files in Directory $dir are:\"    ls -p \"$dir\"       # Lists files in the directory, showing directories with '/'else    echo \"Directory '$dir' does not exist.\"FiOutput:Exercise Program:Write a shell script for Counting Files in a Directory.Program:-Experiment– 7Aim:- Write a C program to create a child process and allow the parent process to display “parent” and the child to display “child” on the screen.Program:-#include <stdio.h>#include <unistd.h>#include <sys/types.h>int main() {    pid_t pid;    pid = fork(); // Create a new process    if (pid < 0) {        // Fork failed        fprintf(stderr, \"Fork failed!\\n\");        return 1;    } else if (pid == 0) {        // Child process        printf(\"child\\n\");    } else {        // Parent process        printf(\"parent\\n\");    }    return 0;}Output:-Exercise Program:Write a C program for Basic Multithreading Example.Program:-Experiment - 8Aim:- Write a C program that illustrates communication between two unrelated processes using named pipes.Program:-  Writer.c#include <stdio.h>#include <stdlib.h>#include <unistd.h>#include <fcntl.h>#include <sys/stat.h>#include <sys/types.h>#include <string.h>#define FIFO_FILE \"/tmp/myfifo\"int main() {    int fd;    char *message = \"Hello from writer!\";        // Create the named pipe (FIFO) if it doesn't exist    mkfifo(FIFO_FILE, 0666);    // Open FIFO for writing only    fd = open(FIFO_FILE, O_WRONLY);    if (fd == -1) {        perror(\"open\");        exit(EXIT_FAILURE);    }    // Write message to FIFO    write(fd, message, strlen(message));    printf(\"Writer: Sent message: '%s'\\n\", message);    // Close the pipe    close(fd);    return 0;}Reader.c#include <stdio.h>#include <stdlib.h>#include <unistd.h>#include <fcntl.h>#include <sys/stat.h>#include <sys/types.h>#define FIFO_FILE \"/tmp/myfifo\"int main() {    int fd;    char buf[256];    // Open FIFO for reading only    fd = open(FIFO_FILE, O_RDONLY);    if (fd == -1) {        perror(\"open\");        exit(EXIT_FAILURE);    }    // Read from FIFO    read(fd, buf, sizeof(buf));    printf(\"Reader: Received message: '%s'\\n\", buf);    // Close the pipe    close(fd);    return 0;}Output:-Exercise Program:Write a C program to implement a singly linked list with operations like insertion, deletion, and traversal..Program:Experiment – 9Aim: - Write a C program to illustrate how an orphan process is created.Program:-#include <stdio.h>#include <stdlib.h>#include <unistd.h>int main() {    pid_t child_pid;    // Create a child process    child_pid = fork();    if (child_pid == 0) {        // Child process code        printf(\"Child process with PID: %d\\n\", getpid());        printf(\"Child's parent PID: %d\\n\", getppid());                // Sleep for some time to keep the child process running        sleep(10);                // After sleeping, the child process will terminate        printf(\"Child process terminating...\\n\");    } else if (child_pid > 0) {        // Parent process code        printf(\"Parent process with PID: %d\\n\", getpid());                // Parent process terminates immediately after forking        printf(\"Parent process terminating immediately...\\n\");    } else {        // Fork failed        perror(\"fork\");        return 1;    }    return 0;}Output:-Exercise Program:Write a C program to perform operations on Arrays using Pointers and Functions.Program:Experiment – 10Aim:- Write a C program to illustrate two processes communicating using shared memory.Program:- Writer.c#include <stdio.h>#include <stdlib.h>#include <unistd.h>#include <string.h>#include <sys/ipc.h>#include <sys/shm.h>#define SHM_SIZE 1024  // Size of the shared memory segmentstruct shared_data {    int written;     // Flag to indicate writing is done    char message[100];  // Message buffer};int main() {    key_t key = 1234;  // Unique key for shared memory segment    int shmid;    struct shared_data *shared_memory;    char buffer[100];    // Create shared memory segment    shmid = shmget(key, SHM_SIZE, IPC_CREAT | 0666);    if (shmid < 0) {        perror(\"shmget\");        exit(1);    }    // Attach shared memory segment    shared_memory = (struct shared_data *) shmat(shmid, NULL, 0);    if (shared_memory == (void *) -1) {        perror(\"shmat\");        exit(1);    }    // Write message to shared memory    printf(\"Enter message to write into shared memory: \");    fgets(buffer, sizeof(buffer), stdin);    strncpy(shared_memory->message, buffer, sizeof(shared_memory->message));    shared_memory->written = 1;  // Set flag indicating writing is done    // Detach shared memory segment    shmdt(shared_memory);    return 0;}Reader.c#include <stdio.h>#include <stdlib.h>#include <unistd.h>#include <string.h>#include <sys/ipc.h>#include <sys/shm.h>#define SHM_SIZE 1024  // Size of the shared memory segmentstruct shared_data {    int written;     // Flag to indicate writing is done    char message[100];  // Message buffer};int main() {    key_t key = 1234;  // Same unique key for shared memory segment    int shmid;    struct shared_data *shared_memory;    // Locate the existing shared memory segment    shmid = shmget(key, SHM_SIZE, 0666);    if (shmid < 0) {        perror(\"shmget\");        exit(1);    }    // Attach shared memory segment    shared_memory = (struct shared_data *) shmat(shmid, NULL, 0);    if (shared_memory == (void *) -1) {        perror(\"shmat\");        exit(1);    }    // Wait until writer sets the written flag    while (shared_memory->written == 0) {        sleep(1);  // Sleep for 1 second    }    // Read and print message from shared memory    printf(\"Message read from shared memory: %s\", shared_memory->message);    // Detach shared memory segment    shmdt(shared_memory);    // Remove shared memory segment (optional)    // shmctl(shmid, IPC_RMID, NULL);    return 0;}Output:-Exercise Program:Write a c program to solve the producer-consumer problem using synchronization mechanisms such as semaphores or mutexes.Program: \n"
     ]
    }
   ],
   "source": [
    "docu=\"\"\n",
    "for para in document.paragraphs:\n",
    "    docu+=para.text\n",
    "print(docu)"
   ]
  },
  {
   "cell_type": "code",
   "execution_count": null,
   "id": "7b68f170-b97b-4d57-aac4-b023e92b1965",
   "metadata": {},
   "outputs": [],
   "source": [
    "for i in range(len(document.paragraphs)):\n",
    "    print(\"The content of paragraph\"+str(i)+\"is:\"+document.paragraphs[i].text+\"\\n\")"
   ]
  },
  {
   "cell_type": "code",
   "execution_count": null,
   "id": "3aa45a0f-7074-4d7e-a759-7902aa1f2922",
   "metadata": {},
   "outputs": [],
   "source": []
  }
 ],
 "metadata": {
  "kernelspec": {
   "display_name": "Python 3 (ipykernel)",
   "language": "python",
   "name": "python3"
  },
  "language_info": {
   "codemirror_mode": {
    "name": "ipython",
    "version": 3
   },
   "file_extension": ".py",
   "mimetype": "text/x-python",
   "name": "python",
   "nbconvert_exporter": "python",
   "pygments_lexer": "ipython3",
   "version": "3.12.7"
  }
 },
 "nbformat": 4,
 "nbformat_minor": 5
}
