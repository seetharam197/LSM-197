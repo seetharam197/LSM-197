{
 "cells": [
  {
   "cell_type": "code",
   "execution_count": 1,
   "id": "f453c8bf",
   "metadata": {},
   "outputs": [
    {
     "name": "stdout",
     "output_type": "stream",
     "text": [
      "Collecting emot\n",
      "  Downloading emot-3.1-py3-none-any.whl.metadata (396 bytes)\n",
      "Downloading emot-3.1-py3-none-any.whl (61 kB)\n",
      "Installing collected packages: emot\n",
      "Successfully installed emot-3.1\n"
     ]
    }
   ],
   "source": [
    "!pip install emot"
   ]
  },
  {
   "cell_type": "code",
   "execution_count": 5,
   "id": "0027180a-002b-4f2a-b810-dc95210470de",
   "metadata": {},
   "outputs": [],
   "source": [
    "text1=\"what are you saying 😁.I am the boss 😒,and why are you so 😂\""
   ]
  },
  {
   "cell_type": "code",
   "execution_count": 6,
   "id": "9b5fa4f1-d9f3-46b4-9f94-48e09ddca1e7",
   "metadata": {},
   "outputs": [],
   "source": [
    "import re \n",
    "from emot.emo_unicode import UNICODE_EMOJI\n",
    "from emot.emo_unicode import EMOTICONS_EMO"
   ]
  },
  {
   "cell_type": "code",
   "execution_count": 8,
   "id": "09fd027e-2828-4c0f-a020-d9305f2ac1e2",
   "metadata": {},
   "outputs": [
    {
     "data": {
      "text/plain": [
       "'what are you saying .I am the boss beaming_face_with_smiling_eyes,and why are you sounamused_face'"
      ]
     },
     "execution_count": 8,
     "metadata": {},
     "output_type": "execute_result"
    }
   ],
   "source": [
    "def converting_emojis(text):\n",
    "    for emot in UNICODE_EMOJI:\n",
    "        text=text.replace(emot,\"_\".join(UNICODE_EMOJI[emot].replace(\",\",\"\").replace(\":\",\"\").split()))\n",
    "    return text\n",
    "converting_emojis(text1)"
   ]
  },
  {
   "cell_type": "code",
   "execution_count": 11,
   "id": "12bfaa80-3bd6-4e17-87bc-8423b6630ab4",
   "metadata": {},
   "outputs": [
    {
     "data": {
      "text/plain": [
       "'what are you saying .I am the boss ,and why are you so'"
      ]
     },
     "execution_count": 11,
     "metadata": {},
     "output_type": "execute_result"
    }
   ],
   "source": [
    "def emoji_removal(string):\n",
    "    emoji_unicodes=re.compile(\"[\"\n",
    "                              u\"\\U0001F600-\\U0001F64F\"\n",
    "                              u\"\\U0001F300-\\U0001F5FF\"\n",
    "                              u\"\\U0001F680-\\U0001F6FF\"\n",
    "                              u\"\\U0001F1E0-\\U0001F1FF\"\n",
    "                              u\"\\U00002500-\\U00002BEF\"\n",
    "                              u\"\\U00002702-\\U000027B0\"\n",
    "                              u\"\\U000024C2-\\U0001F251\"\n",
    "                              u\"\\U0001f926-\\U0001f937\"\n",
    "                              u\"\\U00010000-\\U0010ffff\"\n",
    "                              u\"\\u2640-\\u2642\"\n",
    "                              u\"\\u2600-\\u2B55\"\n",
    "                              u\"\\u200d\"\n",
    "                              u\"\\u23cf\"\n",
    "                              u\"\\u23e9\"\n",
    "                              u\"\\u231a\"\n",
    "                              u\"\\ufe0f\"\n",
    "                              u\"\\u3030\"\n",
    "                              \"]+\",flags=re.UNICODE)\n",
    "    return emoji_unicodes.sub(r'',string)\n",
    "emoji_removal(text1)"
   ]
  },
  {
   "cell_type": "code",
   "execution_count": null,
   "id": "d97f5e7e-ab07-437f-b82a-51526e91b499",
   "metadata": {},
   "outputs": [],
   "source": []
  },
  {
   "cell_type": "code",
   "execution_count": null,
   "id": "8f7dd99a-70b3-4158-b656-8d8043a16275",
   "metadata": {},
   "outputs": [],
   "source": []
  },
  {
   "cell_type": "code",
   "execution_count": null,
   "id": "50f30c27-805a-427c-b6df-a32b3774499a",
   "metadata": {},
   "outputs": [],
   "source": []
  },
  {
   "cell_type": "code",
   "execution_count": null,
   "id": "1962082e-2fb2-4f52-9dcb-b5cf455c6490",
   "metadata": {},
   "outputs": [],
   "source": []
  },
  {
   "cell_type": "code",
   "execution_count": null,
   "id": "700ee92e-0409-4d2e-b0fd-609a7841b3ed",
   "metadata": {},
   "outputs": [],
   "source": []
  },
  {
   "cell_type": "code",
   "execution_count": null,
   "id": "48e048c9-1784-47f4-a01f-aeb726ae4029",
   "metadata": {},
   "outputs": [],
   "source": []
  },
  {
   "cell_type": "code",
   "execution_count": null,
   "id": "5cec6dd3-d013-41b6-b7e3-233f157ba3e0",
   "metadata": {},
   "outputs": [],
   "source": []
  }
 ],
 "metadata": {
  "kernelspec": {
   "display_name": "Python 3 (ipykernel)",
   "language": "python",
   "name": "python3"
  },
  "language_info": {
   "codemirror_mode": {
    "name": "ipython",
    "version": 3
   },
   "file_extension": ".py",
   "mimetype": "text/x-python",
   "name": "python",
   "nbconvert_exporter": "python",
   "pygments_lexer": "ipython3",
   "version": "3.12.7"
  }
 },
 "nbformat": 4,
 "nbformat_minor": 5
}
